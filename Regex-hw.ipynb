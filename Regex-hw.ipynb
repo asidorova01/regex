{
 "cells": [
  {
   "cell_type": "markdown",
   "metadata": {},
   "source": [
    "# Домашнее задание к лекции \"Регулярные выражения\"\n",
    "Для зачета необходимо выполнить 4 задания.  \n",
    "Для зачета с отличием – все."
   ]
  },
  {
   "cell_type": "markdown",
   "metadata": {},
   "source": [
    "## Задание 1"
   ]
  },
  {
   "cell_type": "markdown",
   "metadata": {},
   "source": [
    "Напишите функцию, которая принимает на вход строку и проверяет является ли она валидным транспортным номером. Если да, то функция должна возвращать отдельно номер и регион."
   ]
  },
  {
   "cell_type": "code",
   "execution_count": 10,
   "metadata": {},
   "outputs": [
    {
     "name": "stdout",
     "output_type": "stream",
     "text": [
      "Введите номер авто (без пробелов): о391те750\n",
      "о391те750\n"
     ]
    }
   ],
   "source": [
    "# Сразу уточню, что я не учитываю валидность региона (их очень много...). Только кол-во знаков в нем. \n",
    "# И вообще - у меня не все получилось.\n",
    "\n",
    "import re\n",
    "\n",
    "def valid():\n",
    "    pattern = '[АВЕКМНОРСТУХ](\\d{3})[АВЕКМНОРСТУХ]{2}(\\d{2,3})'\n",
    "    my_string = input('Введите номер авто (без пробелов): ')\n",
    "    result = re.findall(pattern, my_string, re.I)\n",
    "    \n",
    "#     nomer = re.sub(pattern, '\\1', my_string) \n",
    "#  тут я пыталась записать первую группу (цирфы) в отдельную переменную, чтобы потом вывести. \n",
    "\n",
    "\n",
    "    print('Нормальный номер!'if result else 'Плохой номер...')\n",
    "    print(nomer)\n",
    "    \n",
    "valid()    "
   ]
  },
  {
   "cell_type": "markdown",
   "metadata": {},
   "source": [
    "## Задание 2"
   ]
  },
  {
   "cell_type": "markdown",
   "metadata": {},
   "source": [
    "Напишите функцию, которая проверяет e-mail адрес на валидность по стандарту RFC822: http://www.w3.org/Protocols/rfc822/. Для этого постарайтесь написать (в крайнем случае найти) самый полный шаблон для проверки e-mail адресов через регулярное выражение. Разберитесь и напишите примеры, какие ваш шаблон может не охватить."
   ]
  },
  {
   "cell_type": "code",
   "execution_count": 2,
   "metadata": {},
   "outputs": [
    {
     "name": "stdout",
     "output_type": "stream",
     "text": [
      "Введите e-amail: alisa@gd.aero\n",
      "Нормальный email!\n"
     ]
    }
   ],
   "source": [
    "import re\n",
    "\n",
    "def email_check():\n",
    "    em_pat = '\\w+([\\.-]?\\w+)*@\\w+([\\.-]?\\w+)*(\\.\\w{2,4})+'\n",
    "    my_email = input('Введите e-amail: ')\n",
    "    result = re.findall(em_pat, my_email, re.I)\n",
    "    \n",
    "    print('Нормальный email!'if result else 'Плохой e-mail...')\n",
    "    \n",
    "email_check()"
   ]
  },
  {
   "cell_type": "markdown",
   "metadata": {},
   "source": [
    "## Задание 3\n",
    "Напишите функцию, которая будет удалять все последовательные повторы слов из заданной строки."
   ]
  },
  {
   "cell_type": "code",
   "execution_count": 3,
   "metadata": {},
   "outputs": [
    {
     "data": {
      "text/plain": [
       "'два три восемь'"
      ]
     },
     "execution_count": 3,
     "metadata": {},
     "output_type": "execute_result"
    }
   ],
   "source": [
    "import re\n",
    "\n",
    "string2 = 'раз раз два три три три восемь восемь'\n",
    "rep_regex = '(\\s*\\w+\\s*){2,3}'\n",
    "\n",
    "re.sub(rep_regex, r'\\1', string2)\n",
    "\n",
    "# не могу разобраться с \"раз\""
   ]
  },
  {
   "cell_type": "markdown",
   "metadata": {},
   "source": [
    "## Задание 4\n",
    "Напишите функцию, которая будет проверять номер сотового телефона на валидность, если он валиден, то переводить его в формат:   \n",
    "+7(xxx)-xxx-xx-xx  \n",
    "Постарайтесь предусмотреть как можно больше адекватных форматов изначального ввода номера.\n",
    "Примеры правильных и неправильных форматов:\n",
    "- +7 955 555-55-55;\n",
    "- 955555555;\n",
    "- 8(955)555-55-55;\n",
    "- +7 955 555 55 55;\n",
    "- 7(955) 555-55-55;\n",
    "- +7 955+555+55+55."
   ]
  },
  {
   "cell_type": "code",
   "execution_count": 7,
   "metadata": {},
   "outputs": [
    {
     "name": "stdout",
     "output_type": "stream",
     "text": [
      "Введите номер телефона: +79193015050\n"
     ]
    },
    {
     "data": {
      "text/plain": [
       "'+7(9)-1-0-0'"
      ]
     },
     "execution_count": 7,
     "metadata": {},
     "output_type": "execute_result"
    }
   ],
   "source": [
    "import re\n",
    "\n",
    "ph_num = input('Введите номер телефона: ')\n",
    "ph_regex = '(\\+7|8|7|\\+8)?\\s?\\(?(\\d){3}\\)?(\\s|-|\\+)?(\\d){3}(\\s|-|\\+)?(\\d){2}(\\s|-|\\+)?(\\d){2}'\n",
    "\n",
    "result = re.findall(ph_regex, ph_num, re.I)\n",
    "\n",
    "# дальше не получается. не понимаю, почему группы не работают. вероятно из-за \"?\"\n",
    "\n",
    "re.sub(ph_regex, r'+7(\\2)-\\4-\\6-\\8', ph_num)\n",
    "\n"
   ]
  },
  {
   "cell_type": "code",
   "execution_count": null,
   "metadata": {},
   "outputs": [],
   "source": []
  }
 ],
 "metadata": {
  "kernelspec": {
   "display_name": "Python 3",
   "language": "python",
   "name": "python3"
  },
  "language_info": {
   "codemirror_mode": {
    "name": "ipython",
    "version": 3
   },
   "file_extension": ".py",
   "mimetype": "text/x-python",
   "name": "python",
   "nbconvert_exporter": "python",
   "pygments_lexer": "ipython3",
   "version": "3.7.4"
  }
 },
 "nbformat": 4,
 "nbformat_minor": 2
}
