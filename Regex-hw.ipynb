{
 "cells": [
  {
   "cell_type": "markdown",
   "metadata": {},
   "source": [
    "# Домашнее задание к лекции \"Регулярные выражения\"\n",
    "Для зачета необходимо выполнить 4 задания.  \n",
    "Для зачета с отличием – все."
   ]
  },
  {
   "cell_type": "markdown",
   "metadata": {},
   "source": [
    "## Задание 1"
   ]
  },
  {
   "cell_type": "markdown",
   "metadata": {},
   "source": [
    "Напишите функцию, которая принимает на вход строку и проверяет является ли она валидным транспортным номером. Если да, то функция должна возвращать отдельно номер и регион."
   ]
  },
  {
   "cell_type": "code",
   "execution_count": 5,
   "metadata": {},
   "outputs": [
    {
     "name": "stdout",
     "output_type": "stream",
     "text": [
      "Введите номер авто (без пробелов): о392те750\n",
      "Нормальный номер!\n",
      "Номер:  о392те Регион:  750\n"
     ]
    }
   ],
   "source": [
    "import re\n",
    "\n",
    "def valid():\n",
    "    pattern = '(^[АВЕКМНОРСТУХ]{1}[0-9]{3}[АВЕКМНОРСТУХ]{2})([0-9]{2,3})'\n",
    "    my_string = input('Введите номер авто (без пробелов): ')\n",
    "    result = re.findall(pattern, my_string, re.I)\n",
    "\n",
    "    print('Нормальный номер!'if result else 'Плохой номер...')\n",
    "    print('Номер: ', result[0][0], 'Регион: ', result[0][1])\n",
    "    \n",
    "valid()    "
   ]
  },
  {
   "cell_type": "markdown",
   "metadata": {},
   "source": [
    "## Задание 2"
   ]
  },
  {
   "cell_type": "markdown",
   "metadata": {},
   "source": [
    "Напишите функцию, которая проверяет e-mail адрес на валидность по стандарту RFC822: http://www.w3.org/Protocols/rfc822/. Для этого постарайтесь написать (в крайнем случае найти) самый полный шаблон для проверки e-mail адресов через регулярное выражение. Разберитесь и напишите примеры, какие ваш шаблон может не охватить."
   ]
  },
  {
   "cell_type": "code",
   "execution_count": null,
   "metadata": {},
   "outputs": [],
   "source": [
    "import re\n",
    "\n",
    "def email_check():\n",
    "    em_pat = '\\w+([\\.-]?\\w+)*@\\w+([\\.-]?\\w+)*(\\.\\w{2,4})+'\n",
    "    my_email = input('Введите e-amail: ')\n",
    "    result = re.findall(em_pat, my_email, re.I)\n",
    "    \n",
    "    print('Нормальный email!'if result else 'Плохой e-mail...')\n",
    "    \n",
    "email_check()"
   ]
  },
  {
   "cell_type": "markdown",
   "metadata": {},
   "source": [
    "## Задание 3\n",
    "Напишите функцию, которая будет удалять все последовательные повторы слов из заданной строки."
   ]
  },
  {
   "cell_type": "code",
   "execution_count": 1,
   "metadata": {},
   "outputs": [
    {
     "data": {
      "text/plain": [
       "'раз два три восемь'"
      ]
     },
     "execution_count": 1,
     "metadata": {},
     "output_type": "execute_result"
    }
   ],
   "source": [
    "import re\n",
    "\n",
    "string2 = 'раз раз два три три три восемь восемь'\n",
    "rep_regex = r'(\\b\\w+)(\\s\\1)+'\n",
    "\n",
    "re.sub(rep_regex, r'\\1', string2)"
   ]
  },
  {
   "cell_type": "markdown",
   "metadata": {},
   "source": [
    "## Задание 4\n",
    "Напишите функцию, которая будет проверять номер сотового телефона на валидность, если он валиден, то переводить его в формат:   \n",
    "+7(xxx)-xxx-xx-xx  \n",
    "Постарайтесь предусмотреть как можно больше адекватных форматов изначального ввода номера.\n",
    "Примеры правильных и неправильных форматов:\n",
    "- +7 955 555-55-55;\n",
    "- 8(955)555-55-55;\n",
    "- +7 955 555 55 55;\n",
    "- 7(955) 555-55-55;\n",
    "- +7 955+555+55+55."
   ]
  },
  {
   "cell_type": "code",
   "execution_count": 15,
   "metadata": {},
   "outputs": [
    {
     "name": "stdout",
     "output_type": "stream",
     "text": [
      "Введите номер телефона без пробелов: +7 955+555+55+55\n",
      "Нормальный номер! +7(955)-555-55-55\n"
     ]
    }
   ],
   "source": [
    "import re\n",
    "\n",
    "new_num = ''\n",
    "ph_num = input('Введите номер телефона: ')\n",
    "ph_regex = r'(\\+?7|8)\\(?\\s?([0-9]{3})\\)?\\+?\\s?([0-9]{3})\\+?-?\\s?([0-9]{2})\\+?-?\\s?([0-9]{2})'\n",
    "\n",
    "result = re.findall(ph_regex, ph_num, re.I)\n",
    "\n",
    "if result:\n",
    "    new_num = re.sub(ph_regex, r'+7(\\2)-\\3-\\4-\\5' , ph_num)\n",
    "    print('Нормальный номер!', new_num)\n",
    "else:\n",
    "    print('Плохой номер...')"
   ]
  },
  {
   "cell_type": "code",
   "execution_count": null,
   "metadata": {},
   "outputs": [],
   "source": []
  }
 ],
 "metadata": {
  "kernelspec": {
   "display_name": "Python 3",
   "language": "python",
   "name": "python3"
  },
  "language_info": {
   "codemirror_mode": {
    "name": "ipython",
    "version": 3
   },
   "file_extension": ".py",
   "mimetype": "text/x-python",
   "name": "python",
   "nbconvert_exporter": "python",
   "pygments_lexer": "ipython3",
   "version": "3.7.4"
  }
 },
 "nbformat": 4,
 "nbformat_minor": 2
}
